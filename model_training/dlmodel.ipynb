{
  "nbformat": 4,
  "nbformat_minor": 0,
  "metadata": {
    "colab": {
      "provenance": []
    },
    "kernelspec": {
      "name": "python3",
      "display_name": "Python 3"
    },
    "language_info": {
      "name": "python"
    }
  },
  "cells": [
    {
      "cell_type": "code",
      "source": [
        "import pandas as pd\n",
        "import numpy as np"
      ],
      "metadata": {
        "id": "GVNqZSfzRlH7"
      },
      "execution_count": 50,
      "outputs": []
    },
    {
      "cell_type": "code",
      "execution_count": 51,
      "metadata": {
        "id": "ByNx7hrXQ_JP"
      },
      "outputs": [],
      "source": [
        "df = pd.read_csv(\"/content/cleaned (1).csv\", encoding=\"latin-1\")"
      ]
    },
    {
      "cell_type": "code",
      "source": [
        "from sklearn.preprocessing import LabelEncoder  # Import LabelEncoder\n",
        "\n",
        "# Convert 'Order_Date' and 'Ship_Date' to datetime objects first\n",
        "for col in ['Order_Date', 'Ship_Date']:\n",
        "    df[col] = pd.to_datetime(df[col], errors='coerce')  # Handle potential errors during conversion\n",
        "\n",
        "# Now apply toordinal()\n",
        "for col in ['Order_Date', 'Ship_Date']:\n",
        "    df[col] = df[col].apply(lambda x: x.toordinal() if pd.notna(x) else x)\n",
        "# Define features (X) and target variable (y)\n",
        "X = df.drop(columns=[\"Sales\"])\n",
        "y = df[\"Sales\"]\n",
        "\n",
        "# Before splitting, convert categorical features to numerical using Label Encoding\n",
        "categorical_features = X.select_dtypes(include=['object']).columns  # Select categorical columns\n",
        "\n",
        "for feature in categorical_features:\n",
        "    le = LabelEncoder()\n",
        "    X[feature] = le.fit_transform(X[feature])\n"
      ],
      "metadata": {
        "id": "9sfou46wSO4r"
      },
      "execution_count": 52,
      "outputs": []
    },
    {
      "cell_type": "code",
      "source": [
        "from sklearn.preprocessing import LabelEncoder, StandardScaler  # Import StandardScaler along with LabelEncoder\n",
        "from sklearn.decomposition import PCA\n",
        "df_encoded = df.copy()\n",
        "categorical_cols = df.select_dtypes(include=['object']).columns\n",
        "encoder = LabelEncoder()\n",
        "\n",
        "for col in categorical_cols:\n",
        "    df_encoded[col] = encoder.fit_transform(df_encoded[col])\n",
        "\n",
        "# Convert 'Order_Date' and 'Ship_Date' to ordinal before scaling\n",
        "# Assuming 'Order_Date' and 'Ship_Date' are in the DataFrame\n",
        "for col in ['Order_Date', 'Ship_Date']:\n",
        "    df_encoded[col] = pd.to_datetime(df_encoded[col]).apply(lambda x: x.toordinal())\n",
        "\n",
        "# Define features (X) and target variable (y)\n",
        "X = df_encoded.drop(columns=[\"Sales\"])\n",
        "y = df_encoded[\"Sales\"]\n",
        "\n",
        "# Standardize the data (PCA requires scaling)\n",
        "scaler = StandardScaler()\n",
        "X_scaled = scaler.fit_transform(X) # Now X contains only numerical data\n",
        "\n",
        "# Apply PCA\n",
        "pca = PCA()\n",
        "X_pca = pca.fit_transform(X_scaled)\n"
      ],
      "metadata": {
        "id": "oxAjmEpXSRxy"
      },
      "execution_count": 53,
      "outputs": []
    },
    {
      "cell_type": "code",
      "source": [
        "# Explained variance ratio\n",
        "explained_variance = np.cumsum(pca.explained_variance_ratio_)\n",
        "\n",
        "optimal_components = np.argmax(explained_variance >= 0.95) + 1\n",
        "\n",
        "# Apply PCA with optimal components\n",
        "pca_optimal = PCA(n_components=optimal_components)\n",
        "X_pca_optimal = pca_optimal.fit_transform(X_scaled)\n",
        "\n",
        "# Output the optimal number of components\n",
        "print(optimal_components)\n"
      ],
      "metadata": {
        "colab": {
          "base_uri": "https://localhost:8080/"
        },
        "id": "xT8FudYRSkEi",
        "outputId": "4aee1182-0617-4370-d47b-56f9a965cdab"
      },
      "execution_count": 54,
      "outputs": [
        {
          "output_type": "stream",
          "name": "stdout",
          "text": [
            "11\n"
          ]
        }
      ]
    },
    {
      "cell_type": "code",
      "source": [
        "from tensorflow.keras.models import Sequential\n",
        "from tensorflow.keras.layers import Dense, Dropout, ReLU\n",
        "from tensorflow.keras.callbacks import EarlyStopping\n",
        "from sklearn.preprocessing import StandardScaler\n",
        "from sklearn.metrics import r2_score\n",
        "from tensorflow.keras.optimizers import Adam\n",
        "\n",
        "# Assuming X_pca_optimal and y are already defined and loaded\n",
        "\n",
        "# Step 1: Feature Scaling\n",
        "scaler_X = StandardScaler()\n",
        "X_scaled = scaler_X.fit_transform(X_pca_optimal)\n",
        "\n",
        "scaler_y = StandardScaler()\n",
        "y_scaled = scaler_y.fit_transform(y.values.reshape(-1, 1)).flatten()  # ✅ Fixed reshape issue\n",
        "\n",
        "# Step 2: Define the Model Architecture\n",
        "model = Sequential([\n",
        "    Dense(256, input_dim=X_scaled.shape[1]),\n",
        "    ReLU(),\n",
        "    Dropout(0.3),\n",
        "    Dense(128),\n",
        "    ReLU(),\n",
        "    Dropout(0.3),\n",
        "    Dense(64),\n",
        "    ReLU(),\n",
        "    Dropout(0.3),\n",
        "    Dense(1, activation='linear')\n",
        "])\n",
        "\n",
        "model.compile(optimizer=Adam(learning_rate=0.001), loss='mean_squared_error', metrics=['mae'])\n",
        "\n",
        "# Step 4: Define Early Stopping\n",
        "early_stopping = EarlyStopping(monitor='val_loss', patience=20, restore_best_weights=True)\n",
        "\n",
        "# Step 5: Train the Model\n",
        "history = model.fit(X_scaled, y_scaled, epochs=350, batch_size=32, validation_split=0.2, callbacks=[early_stopping])\n",
        "\n",
        "# Step 6: Evaluate the Model\n",
        "loss, mae = model.evaluate(X_scaled, y_scaled)\n",
        "print(f'Mean Absolute Error: {mae}')\n",
        "\n",
        "# Step 7: Make Predictions\n",
        "y_pred_scaled = model.predict(X_scaled)\n",
        "\n",
        "# Step 8: Convert Predictions Back to Original Scale\n",
        "y_pred = scaler_y.inverse_transform(y_pred_scaled.reshape(-1, 1)).flatten()\n",
        "\n",
        "# Step 9: Calculate R2 Score\n",
        "r2 = r2_score(y, y_pred)\n",
        "print(f'R2 Score: {r2}')"
      ],
      "metadata": {
        "colab": {
          "base_uri": "https://localhost:8080/"
        },
        "id": "Ks-NumkVSmkb",
        "outputId": "a29dd919-6a7a-487d-d82c-7b6c6c24e188"
      },
      "execution_count": 55,
      "outputs": [
        {
          "output_type": "stream",
          "name": "stdout",
          "text": [
            "Epoch 1/350\n"
          ]
        },
        {
          "output_type": "stream",
          "name": "stderr",
          "text": [
            "/usr/local/lib/python3.11/dist-packages/keras/src/layers/core/dense.py:87: UserWarning: Do not pass an `input_shape`/`input_dim` argument to a layer. When using Sequential models, prefer using an `Input(shape)` object as the first layer in the model instead.\n",
            "  super().__init__(activity_regularizer=activity_regularizer, **kwargs)\n"
          ]
        },
        {
          "output_type": "stream",
          "name": "stdout",
          "text": [
            "\u001b[1m245/245\u001b[0m \u001b[32m━━━━━━━━━━━━━━━━━━━━\u001b[0m\u001b[37m\u001b[0m \u001b[1m3s\u001b[0m 5ms/step - loss: 1.0287 - mae: 0.8312 - val_loss: 0.7814 - val_mae: 0.7090\n",
            "Epoch 2/350\n",
            "\u001b[1m245/245\u001b[0m \u001b[32m━━━━━━━━━━━━━━━━━━━━\u001b[0m\u001b[37m\u001b[0m \u001b[1m1s\u001b[0m 4ms/step - loss: 0.8396 - mae: 0.7170 - val_loss: 0.7458 - val_mae: 0.6948\n",
            "Epoch 3/350\n",
            "\u001b[1m245/245\u001b[0m \u001b[32m━━━━━━━━━━━━━━━━━━━━\u001b[0m\u001b[37m\u001b[0m \u001b[1m1s\u001b[0m 4ms/step - loss: 0.7711 - mae: 0.6847 - val_loss: 0.6764 - val_mae: 0.6496\n",
            "Epoch 4/350\n",
            "\u001b[1m245/245\u001b[0m \u001b[32m━━━━━━━━━━━━━━━━━━━━\u001b[0m\u001b[37m\u001b[0m \u001b[1m1s\u001b[0m 4ms/step - loss: 0.7226 - mae: 0.6517 - val_loss: 0.6553 - val_mae: 0.6106\n",
            "Epoch 5/350\n",
            "\u001b[1m245/245\u001b[0m \u001b[32m━━━━━━━━━━━━━━━━━━━━\u001b[0m\u001b[37m\u001b[0m \u001b[1m2s\u001b[0m 6ms/step - loss: 0.7029 - mae: 0.6383 - val_loss: 0.6351 - val_mae: 0.6199\n",
            "Epoch 6/350\n",
            "\u001b[1m245/245\u001b[0m \u001b[32m━━━━━━━━━━━━━━━━━━━━\u001b[0m\u001b[37m\u001b[0m \u001b[1m2s\u001b[0m 7ms/step - loss: 0.7000 - mae: 0.6322 - val_loss: 0.6323 - val_mae: 0.5900\n",
            "Epoch 7/350\n",
            "\u001b[1m245/245\u001b[0m \u001b[32m━━━━━━━━━━━━━━━━━━━━\u001b[0m\u001b[37m\u001b[0m \u001b[1m2s\u001b[0m 4ms/step - loss: 0.6810 - mae: 0.6166 - val_loss: 0.6326 - val_mae: 0.6007\n",
            "Epoch 8/350\n",
            "\u001b[1m245/245\u001b[0m \u001b[32m━━━━━━━━━━━━━━━━━━━━\u001b[0m\u001b[37m\u001b[0m \u001b[1m1s\u001b[0m 4ms/step - loss: 0.6661 - mae: 0.6122 - val_loss: 0.6267 - val_mae: 0.5810\n",
            "Epoch 9/350\n",
            "\u001b[1m245/245\u001b[0m \u001b[32m━━━━━━━━━━━━━━━━━━━━\u001b[0m\u001b[37m\u001b[0m \u001b[1m1s\u001b[0m 4ms/step - loss: 0.6572 - mae: 0.6052 - val_loss: 0.6228 - val_mae: 0.6034\n",
            "Epoch 10/350\n",
            "\u001b[1m245/245\u001b[0m \u001b[32m━━━━━━━━━━━━━━━━━━━━\u001b[0m\u001b[37m\u001b[0m \u001b[1m1s\u001b[0m 4ms/step - loss: 0.6500 - mae: 0.6031 - val_loss: 0.6093 - val_mae: 0.5742\n",
            "Epoch 11/350\n",
            "\u001b[1m245/245\u001b[0m \u001b[32m━━━━━━━━━━━━━━━━━━━━\u001b[0m\u001b[37m\u001b[0m \u001b[1m1s\u001b[0m 4ms/step - loss: 0.6543 - mae: 0.6003 - val_loss: 0.6156 - val_mae: 0.5983\n",
            "Epoch 12/350\n",
            "\u001b[1m245/245\u001b[0m \u001b[32m━━━━━━━━━━━━━━━━━━━━\u001b[0m\u001b[37m\u001b[0m \u001b[1m1s\u001b[0m 4ms/step - loss: 0.6459 - mae: 0.6001 - val_loss: 0.6075 - val_mae: 0.5748\n",
            "Epoch 13/350\n",
            "\u001b[1m245/245\u001b[0m \u001b[32m━━━━━━━━━━━━━━━━━━━━\u001b[0m\u001b[37m\u001b[0m \u001b[1m1s\u001b[0m 4ms/step - loss: 0.6363 - mae: 0.5946 - val_loss: 0.6045 - val_mae: 0.5834\n",
            "Epoch 14/350\n",
            "\u001b[1m245/245\u001b[0m \u001b[32m━━━━━━━━━━━━━━━━━━━━\u001b[0m\u001b[37m\u001b[0m \u001b[1m1s\u001b[0m 4ms/step - loss: 0.6298 - mae: 0.5900 - val_loss: 0.6090 - val_mae: 0.5834\n",
            "Epoch 15/350\n",
            "\u001b[1m245/245\u001b[0m \u001b[32m━━━━━━━━━━━━━━━━━━━━\u001b[0m\u001b[37m\u001b[0m \u001b[1m2s\u001b[0m 7ms/step - loss: 0.6248 - mae: 0.5832 - val_loss: 0.6109 - val_mae: 0.5865\n",
            "Epoch 16/350\n",
            "\u001b[1m245/245\u001b[0m \u001b[32m━━━━━━━━━━━━━━━━━━━━\u001b[0m\u001b[37m\u001b[0m \u001b[1m2s\u001b[0m 4ms/step - loss: 0.6236 - mae: 0.5845 - val_loss: 0.5987 - val_mae: 0.5668\n",
            "Epoch 17/350\n",
            "\u001b[1m245/245\u001b[0m \u001b[32m━━━━━━━━━━━━━━━━━━━━\u001b[0m\u001b[37m\u001b[0m \u001b[1m1s\u001b[0m 4ms/step - loss: 0.6206 - mae: 0.5781 - val_loss: 0.6085 - val_mae: 0.5880\n",
            "Epoch 18/350\n",
            "\u001b[1m245/245\u001b[0m \u001b[32m━━━━━━━━━━━━━━━━━━━━\u001b[0m\u001b[37m\u001b[0m \u001b[1m1s\u001b[0m 4ms/step - loss: 0.6074 - mae: 0.5786 - val_loss: 0.6173 - val_mae: 0.5758\n",
            "Epoch 19/350\n",
            "\u001b[1m245/245\u001b[0m \u001b[32m━━━━━━━━━━━━━━━━━━━━\u001b[0m\u001b[37m\u001b[0m \u001b[1m1s\u001b[0m 4ms/step - loss: 0.6104 - mae: 0.5742 - val_loss: 0.6215 - val_mae: 0.5894\n",
            "Epoch 20/350\n",
            "\u001b[1m245/245\u001b[0m \u001b[32m━━━━━━━━━━━━━━━━━━━━\u001b[0m\u001b[37m\u001b[0m \u001b[1m1s\u001b[0m 4ms/step - loss: 0.6283 - mae: 0.5869 - val_loss: 0.6069 - val_mae: 0.6018\n",
            "Epoch 21/350\n",
            "\u001b[1m245/245\u001b[0m \u001b[32m━━━━━━━━━━━━━━━━━━━━\u001b[0m\u001b[37m\u001b[0m \u001b[1m1s\u001b[0m 4ms/step - loss: 0.6101 - mae: 0.5787 - val_loss: 0.6060 - val_mae: 0.5722\n",
            "Epoch 22/350\n",
            "\u001b[1m245/245\u001b[0m \u001b[32m━━━━━━━━━━━━━━━━━━━━\u001b[0m\u001b[37m\u001b[0m \u001b[1m1s\u001b[0m 4ms/step - loss: 0.6178 - mae: 0.5797 - val_loss: 0.6035 - val_mae: 0.5717\n",
            "Epoch 23/350\n",
            "\u001b[1m245/245\u001b[0m \u001b[32m━━━━━━━━━━━━━━━━━━━━\u001b[0m\u001b[37m\u001b[0m \u001b[1m1s\u001b[0m 4ms/step - loss: 0.6152 - mae: 0.5783 - val_loss: 0.6048 - val_mae: 0.5752\n",
            "Epoch 24/350\n",
            "\u001b[1m245/245\u001b[0m \u001b[32m━━━━━━━━━━━━━━━━━━━━\u001b[0m\u001b[37m\u001b[0m \u001b[1m1s\u001b[0m 5ms/step - loss: 0.6170 - mae: 0.5806 - val_loss: 0.6049 - val_mae: 0.5700\n",
            "Epoch 25/350\n",
            "\u001b[1m245/245\u001b[0m \u001b[32m━━━━━━━━━━━━━━━━━━━━\u001b[0m\u001b[37m\u001b[0m \u001b[1m2s\u001b[0m 6ms/step - loss: 0.5984 - mae: 0.5693 - val_loss: 0.5982 - val_mae: 0.5689\n",
            "Epoch 26/350\n",
            "\u001b[1m245/245\u001b[0m \u001b[32m━━━━━━━━━━━━━━━━━━━━\u001b[0m\u001b[37m\u001b[0m \u001b[1m2s\u001b[0m 4ms/step - loss: 0.6109 - mae: 0.5742 - val_loss: 0.6013 - val_mae: 0.5841\n",
            "Epoch 27/350\n",
            "\u001b[1m245/245\u001b[0m \u001b[32m━━━━━━━━━━━━━━━━━━━━\u001b[0m\u001b[37m\u001b[0m \u001b[1m1s\u001b[0m 4ms/step - loss: 0.6168 - mae: 0.5832 - val_loss: 0.5991 - val_mae: 0.5700\n",
            "Epoch 28/350\n",
            "\u001b[1m245/245\u001b[0m \u001b[32m━━━━━━━━━━━━━━━━━━━━\u001b[0m\u001b[37m\u001b[0m \u001b[1m1s\u001b[0m 4ms/step - loss: 0.6096 - mae: 0.5775 - val_loss: 0.6086 - val_mae: 0.5666\n",
            "Epoch 29/350\n",
            "\u001b[1m245/245\u001b[0m \u001b[32m━━━━━━━━━━━━━━━━━━━━\u001b[0m\u001b[37m\u001b[0m \u001b[1m1s\u001b[0m 4ms/step - loss: 0.6183 - mae: 0.5822 - val_loss: 0.6051 - val_mae: 0.5707\n",
            "Epoch 30/350\n",
            "\u001b[1m245/245\u001b[0m \u001b[32m━━━━━━━━━━━━━━━━━━━━\u001b[0m\u001b[37m\u001b[0m \u001b[1m1s\u001b[0m 4ms/step - loss: 0.5851 - mae: 0.5664 - val_loss: 0.6017 - val_mae: 0.5812\n",
            "Epoch 31/350\n",
            "\u001b[1m245/245\u001b[0m \u001b[32m━━━━━━━━━━━━━━━━━━━━\u001b[0m\u001b[37m\u001b[0m \u001b[1m1s\u001b[0m 4ms/step - loss: 0.6038 - mae: 0.5715 - val_loss: 0.6042 - val_mae: 0.5706\n",
            "Epoch 32/350\n",
            "\u001b[1m245/245\u001b[0m \u001b[32m━━━━━━━━━━━━━━━━━━━━\u001b[0m\u001b[37m\u001b[0m \u001b[1m1s\u001b[0m 4ms/step - loss: 0.6229 - mae: 0.5867 - val_loss: 0.6017 - val_mae: 0.5737\n",
            "Epoch 33/350\n",
            "\u001b[1m245/245\u001b[0m \u001b[32m━━━━━━━━━━━━━━━━━━━━\u001b[0m\u001b[37m\u001b[0m \u001b[1m1s\u001b[0m 4ms/step - loss: 0.6004 - mae: 0.5708 - val_loss: 0.6099 - val_mae: 0.5623\n",
            "Epoch 34/350\n",
            "\u001b[1m245/245\u001b[0m \u001b[32m━━━━━━━━━━━━━━━━━━━━\u001b[0m\u001b[37m\u001b[0m \u001b[1m1s\u001b[0m 5ms/step - loss: 0.5931 - mae: 0.5693 - val_loss: 0.6088 - val_mae: 0.5605\n",
            "Epoch 35/350\n",
            "\u001b[1m245/245\u001b[0m \u001b[32m━━━━━━━━━━━━━━━━━━━━\u001b[0m\u001b[37m\u001b[0m \u001b[1m2s\u001b[0m 4ms/step - loss: 0.5822 - mae: 0.5595 - val_loss: 0.6149 - val_mae: 0.5654\n",
            "Epoch 36/350\n",
            "\u001b[1m245/245\u001b[0m \u001b[32m━━━━━━━━━━━━━━━━━━━━\u001b[0m\u001b[37m\u001b[0m \u001b[1m1s\u001b[0m 4ms/step - loss: 0.5472 - mae: 0.5426 - val_loss: 0.6082 - val_mae: 0.5697\n",
            "Epoch 37/350\n",
            "\u001b[1m245/245\u001b[0m \u001b[32m━━━━━━━━━━━━━━━━━━━━\u001b[0m\u001b[37m\u001b[0m \u001b[1m1s\u001b[0m 4ms/step - loss: 0.5742 - mae: 0.5519 - val_loss: 0.6124 - val_mae: 0.5800\n",
            "Epoch 38/350\n",
            "\u001b[1m245/245\u001b[0m \u001b[32m━━━━━━━━━━━━━━━━━━━━\u001b[0m\u001b[37m\u001b[0m \u001b[1m1s\u001b[0m 4ms/step - loss: 0.5975 - mae: 0.5735 - val_loss: 0.6109 - val_mae: 0.5814\n",
            "Epoch 39/350\n",
            "\u001b[1m245/245\u001b[0m \u001b[32m━━━━━━━━━━━━━━━━━━━━\u001b[0m\u001b[37m\u001b[0m \u001b[1m1s\u001b[0m 4ms/step - loss: 0.5811 - mae: 0.5634 - val_loss: 0.6033 - val_mae: 0.5786\n",
            "Epoch 40/350\n",
            "\u001b[1m245/245\u001b[0m \u001b[32m━━━━━━━━━━━━━━━━━━━━\u001b[0m\u001b[37m\u001b[0m \u001b[1m1s\u001b[0m 4ms/step - loss: 0.5930 - mae: 0.5725 - val_loss: 0.6061 - val_mae: 0.5657\n",
            "Epoch 41/350\n",
            "\u001b[1m245/245\u001b[0m \u001b[32m━━━━━━━━━━━━━━━━━━━━\u001b[0m\u001b[37m\u001b[0m \u001b[1m1s\u001b[0m 4ms/step - loss: 0.5604 - mae: 0.5473 - val_loss: 0.6023 - val_mae: 0.5745\n",
            "Epoch 42/350\n",
            "\u001b[1m245/245\u001b[0m \u001b[32m━━━━━━━━━━━━━━━━━━━━\u001b[0m\u001b[37m\u001b[0m \u001b[1m1s\u001b[0m 4ms/step - loss: 0.5587 - mae: 0.5403 - val_loss: 0.6158 - val_mae: 0.5626\n",
            "Epoch 43/350\n",
            "\u001b[1m245/245\u001b[0m \u001b[32m━━━━━━━━━━━━━━━━━━━━\u001b[0m\u001b[37m\u001b[0m \u001b[1m2s\u001b[0m 5ms/step - loss: 0.5574 - mae: 0.5474 - val_loss: 0.6168 - val_mae: 0.5915\n",
            "Epoch 44/350\n",
            "\u001b[1m245/245\u001b[0m \u001b[32m━━━━━━━━━━━━━━━━━━━━\u001b[0m\u001b[37m\u001b[0m \u001b[1m2s\u001b[0m 4ms/step - loss: 0.5685 - mae: 0.5549 - val_loss: 0.6152 - val_mae: 0.5729\n",
            "Epoch 45/350\n",
            "\u001b[1m245/245\u001b[0m \u001b[32m━━━━━━━━━━━━━━━━━━━━\u001b[0m\u001b[37m\u001b[0m \u001b[1m1s\u001b[0m 4ms/step - loss: 0.5670 - mae: 0.5519 - val_loss: 0.6058 - val_mae: 0.5717\n",
            "\u001b[1m307/307\u001b[0m \u001b[32m━━━━━━━━━━━━━━━━━━━━\u001b[0m\u001b[37m\u001b[0m \u001b[1m1s\u001b[0m 2ms/step - loss: 0.5522 - mae: 0.5472\n",
            "Mean Absolute Error: 0.5532833337783813\n",
            "\u001b[1m307/307\u001b[0m \u001b[32m━━━━━━━━━━━━━━━━━━━━\u001b[0m\u001b[37m\u001b[0m \u001b[1m1s\u001b[0m 2ms/step\n",
            "R2 Score: 0.430955171585083\n"
          ]
        }
      ]
    },
    {
      "cell_type": "code",
      "source": [
        "import joblib\n",
        "joblib.dump(encoder, \"encoder.pkl\")  # Change label_encoder to encoder\n",
        "joblib.dump(scaler, \"scaler.pkl\")"
      ],
      "metadata": {
        "colab": {
          "base_uri": "https://localhost:8080/"
        },
        "id": "hk9s_c8iV_ea",
        "outputId": "0af53050-0b9a-4bae-e1a7-33e2b8ace930"
      },
      "execution_count": 57,
      "outputs": [
        {
          "output_type": "execute_result",
          "data": {
            "text/plain": [
              "['scaler.pkl']"
            ]
          },
          "metadata": {},
          "execution_count": 57
        }
      ]
    },
    {
      "cell_type": "code",
      "source": [
        "model.save_weights('trained_model.weights.h5')  # Saving model's weights"
      ],
      "metadata": {
        "id": "fOJ8___RS6Nt"
      },
      "execution_count": 24,
      "outputs": []
    },
    {
      "cell_type": "code",
      "source": [
        "import matplotlib.pyplot as plt\n",
        "\n",
        "# Extract loss values\n",
        "train_loss = history.history['loss']\n",
        "val_loss = history.history['val_loss']\n",
        "epochs = range(1, len(train_loss) + 1)\n",
        "\n",
        "# Plot the loss curves\n",
        "plt.figure(figsize=(8, 5))\n",
        "plt.plot(epochs, train_loss, label=\"Training Loss\", color=\"blue\")\n",
        "plt.plot(epochs, val_loss, label=\"Validation Loss\", color=\"red\")\n",
        "plt.xlabel(\"Epochs\")\n",
        "plt.ylabel(\"Loss\")\n",
        "plt.title(\"Training vs Validation Loss Curve\")\n",
        "plt.legend()\n",
        "plt.grid(True)\n",
        "plt.show()\n"
      ],
      "metadata": {
        "colab": {
          "base_uri": "https://localhost:8080/",
          "height": 436
        },
        "id": "YcacJV_kS9qR",
        "outputId": "de5fe956-2dec-4c2c-dd6d-1cb7e703d353"
      },
      "execution_count": 25,
      "outputs": [
        {
          "output_type": "display_data",
          "data": {
            "text/plain": [
              "<Figure size 800x500 with 1 Axes>"
            ],
            "image/png": "[encoded data removed]"
          },
          "metadata": {}
        }
      ]
    }
  ]
}